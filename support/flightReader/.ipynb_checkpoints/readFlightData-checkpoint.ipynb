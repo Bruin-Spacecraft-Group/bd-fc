{
 "cells": [
  {
   "cell_type": "markdown",
   "metadata": {},
   "source": [
    "Data frame make up\n",
    "```c\n",
    "typedef struct{\n",
    "    unsigned char FLAGS = 0;\n",
    "    unsigned long SD_ADDR;\n",
    "    unsigned long time;\n",
    "    unsigned long trigger_time = 0;\n",
    "    byte NFF[200];\n",
    "    int SENSE[4];\n",
    "    int AV[16][9];\n",
    "    int FLOW;\n",
    "    unsigned char nul = 0x20;\n",
    "}\n",
    "```"
   ]
  },
  {
   "cell_type": "code",
   "execution_count": 1,
   "metadata": {},
   "outputs": [],
   "source": [
    "with open('../../../tests/flightData/WRITE.txt','rb') as fin:\n",
    "    data = fin.read(512)\n",
    "    \n",
    "hData = data.hex()"
   ]
  },
  {
   "cell_type": "code",
   "execution_count": 2,
   "metadata": {},
   "outputs": [],
   "source": [
    "currentString = ''\n",
    "entireString = ''\n",
    "for i in range(0,len(hData),2):\n",
    "    currentString = hData[i:i+2] + ' '\n",
    "    entireString += currentString"
   ]
  },
  {
   "cell_type": "code",
   "execution_count": 3,
   "metadata": {},
   "outputs": [
    {
     "data": {
      "text/plain": [
       "'80 00 00 00 00 71 31 00 00 00 00 00 00 0a 00 00 00 00 00 00 00 00 00 00 00 00 00 00 00 00 00 00 00 00 00 00 00 00 00 00 00 00 00 00 00 00 00 00 00 00 00 00 00 00 00 00 00 00 00 00 00 00 00 00 00 00 00 00 00 00 00 00 00 00 00 00 00 00 00 00 00 00 00 00 00 00 00 00 00 00 00 00 00 00 00 00 00 00 00 00 00 00 00 00 00 00 00 00 00 00 00 00 00 00 00 00 00 00 00 00 00 00 00 00 00 00 00 00 00 00 00 00 00 00 00 00 00 00 00 00 00 00 00 00 00 00 00 00 00 00 00 00 00 00 00 00 00 00 00 00 00 00 00 00 00 00 00 00 00 00 00 00 00 00 00 00 00 00 00 00 00 00 00 00 00 00 00 00 00 00 00 00 00 00 00 00 00 00 00 00 00 00 00 00 00 00 00 00 00 00 00 00 00 00 00 00 00 00 00 00 00 25 a0 25 a0 db 5f 87 f6 94 02 51 01 6f ff 32 00 cf ff 25 a0 25 a0 db 5f 87 f6 94 02 51 01 8c ff 2e 00 dd ff 25 a0 25 a0 db 5f 74 f6 8c 02 f3 00 8c ff 2e 00 dd ff 25 a0 25 a0 db 5f 74 f6 8c 02 f3 00 8c ff 2e 00 dd ff 25 a0 25 a0 db 5f 74 f6 8c 02 f3 00 8c ff 2e 00 dd ff 25 a0 25 a0 db 5f 74 f6 8c 02 f3 00 be ff fd ff c5 ff 25 a0 25 a0 db 5f 74 f6 8c 02 f3 00 be ff fd ff c5 ff 25 a0 25 a0 db 5f 74 f6 8c 02 f3 00 be ff fd ff c5 ff 25 a0 25 a0 db 5f 74 f6 8c 02 f3 00 be ff fd ff c5 ff 25 a0 25 a0 db 5f 74 f6 8c 02 f3 00 55 ff 28 00 c1 ff 25 a0 25 a0 db 5f 74 f6 8c 02 f3 00 55 ff 28 00 c1 ff 25 a0 25 a0 db 5f 74 f6 8c 02 f3 00 55 ff 28 00 c1 ff 25 a0 25 a0 db 5f 74 f6 8c 02 f3 00 55 ff 28 00 c1 ff 25 a0 25 a0 db 5f 74 f6 8c 02 f3 00 74 ff 38 00 b1 ff 25 a0 25 a0 db 5f 74 f6 8c 02 f3 00 74 ff 38 00 b1 ff 25 a0 25 a0 db 5f 74 f6 8c 02 f3 00 74 ff 38 00 b1 ff 00 00 20 '"
      ]
     },
     "execution_count": 3,
     "metadata": {},
     "output_type": "execute_result"
    }
   ],
   "source": [
    "entireString"
   ]
  },
  {
   "cell_type": "code",
   "execution_count": 4,
   "metadata": {},
   "outputs": [],
   "source": [
    "flags = entireString[0:2]\n",
    "sd_addr = entireString[3:14]\n",
    "time = entireString[15:26]\n",
    "trigger_time = entireString[27:38]\n",
    "nff = entireString[39:638]\n",
    "sense = entireString[639:662]\n",
    "av = entireString[663:1526]\n",
    "flow = entireString[1527:1532]\n",
    "nul = entireString[1533:1535]"
   ]
  },
  {
   "cell_type": "code",
   "execution_count": 25,
   "metadata": {},
   "outputs": [],
   "source": [
    "'''\n",
    "Function littleEndianArr\n",
    "Will take in a string of byte data that is meant to represent an array,\n",
    "and output values within\n",
    "NOTE: It does not breakout out to expected array index.\n",
    "Rather it will parse the data type and output a list of the data in the given order\n",
    "@param hexString: str, string of hex values\n",
    "@param dataTypeSize: int, size of data type given\n",
    "@return: list, list of strings that each are in little endian\n",
    "'''\n",
    "def littleEndianArr(hexString,dataTypeSize):\n",
    "    \n",
    "    byteList = hexString.split()\n",
    "    dataBreakoutList = []\n",
    "    leng = len(byteList)\n",
    "    \n",
    "    for i in range(0,int(leng/dataTypeSize)):\n",
    "        currentData = []\n",
    "        for j in range(0,dataTypeSize):\n",
    "            currentData.append(byteList[i])\n",
    "        currentData = currentData[::-1]\n",
    "        dataBreakoutList.append(currentData)\n",
    "        \n",
    "    dataBreakoutString = []\n",
    "    for i in dataBreakoutList:\n",
    "        allBytes = ''.join(i)\n",
    "        dataBreakoutString.append(allBytes)\n",
    "        \n",
    "    return dataBreakoutString"
   ]
  },
  {
   "cell_type": "code",
   "execution_count": 6,
   "metadata": {},
   "outputs": [],
   "source": [
    "'''\n",
    "Function littleEndian\n",
    "Will take in a string of hex values and output a string of hex values in little endian\n",
    "@param hexString: str, a string of hex values\n",
    "@return: str, hex values in little endian\n",
    "'''\n",
    "def littleEndian(hexString):\n",
    "    leng = len(hexString)\n",
    "    if(leng == 2):\n",
    "        return hexString\n",
    "\n",
    "    byteList = hexString.split()[::-1]\n",
    "    allBytes = ''\n",
    "    for i in byteList:\n",
    "        allBytes += i\n",
    "    return allBytes"
   ]
  },
  {
   "cell_type": "code",
   "execution_count": 120,
   "metadata": {},
   "outputs": [
    {
     "data": {
      "text/plain": [
       "12657"
      ]
     },
     "execution_count": 120,
     "metadata": {},
     "output_type": "execute_result"
    }
   ],
   "source": [
    "littleTime = littleEndian(time)\n",
    "value = int(littleTime,16)\n",
    "value"
   ]
  },
  {
   "cell_type": "code",
   "execution_count": 28,
   "metadata": {},
   "outputs": [
    {
     "data": {
      "text/plain": [
       "['2525',\n",
       " 'a0a0',\n",
       " '2525',\n",
       " 'a0a0',\n",
       " 'dbdb',\n",
       " '5f5f',\n",
       " '8787',\n",
       " 'f6f6',\n",
       " '9494',\n",
       " '0202',\n",
       " '5151',\n",
       " '0101',\n",
       " '6f6f',\n",
       " 'ffff',\n",
       " '3232',\n",
       " '0000',\n",
       " 'cfcf',\n",
       " 'ffff',\n",
       " '2525',\n",
       " 'a0a0',\n",
       " '2525',\n",
       " 'a0a0',\n",
       " 'dbdb',\n",
       " '5f5f',\n",
       " '8787',\n",
       " 'f6f6',\n",
       " '9494',\n",
       " '0202',\n",
       " '5151',\n",
       " '0101',\n",
       " '8c8c',\n",
       " 'ffff',\n",
       " '2e2e',\n",
       " '0000',\n",
       " 'dddd',\n",
       " 'ffff',\n",
       " '2525',\n",
       " 'a0a0',\n",
       " '2525',\n",
       " 'a0a0',\n",
       " 'dbdb',\n",
       " '5f5f',\n",
       " '7474',\n",
       " 'f6f6',\n",
       " '8c8c',\n",
       " '0202',\n",
       " 'f3f3',\n",
       " '0000',\n",
       " '8c8c',\n",
       " 'ffff',\n",
       " '2e2e',\n",
       " '0000',\n",
       " 'dddd',\n",
       " 'ffff',\n",
       " '2525',\n",
       " 'a0a0',\n",
       " '2525',\n",
       " 'a0a0',\n",
       " 'dbdb',\n",
       " '5f5f',\n",
       " '7474',\n",
       " 'f6f6',\n",
       " '8c8c',\n",
       " '0202',\n",
       " 'f3f3',\n",
       " '0000',\n",
       " '8c8c',\n",
       " 'ffff',\n",
       " '2e2e',\n",
       " '0000',\n",
       " 'dddd',\n",
       " 'ffff',\n",
       " '2525',\n",
       " 'a0a0',\n",
       " '2525',\n",
       " 'a0a0',\n",
       " 'dbdb',\n",
       " '5f5f',\n",
       " '7474',\n",
       " 'f6f6',\n",
       " '8c8c',\n",
       " '0202',\n",
       " 'f3f3',\n",
       " '0000',\n",
       " '8c8c',\n",
       " 'ffff',\n",
       " '2e2e',\n",
       " '0000',\n",
       " 'dddd',\n",
       " 'ffff',\n",
       " '2525',\n",
       " 'a0a0',\n",
       " '2525',\n",
       " 'a0a0',\n",
       " 'dbdb',\n",
       " '5f5f',\n",
       " '7474',\n",
       " 'f6f6',\n",
       " '8c8c',\n",
       " '0202',\n",
       " 'f3f3',\n",
       " '0000',\n",
       " 'bebe',\n",
       " 'ffff',\n",
       " 'fdfd',\n",
       " 'ffff',\n",
       " 'c5c5',\n",
       " 'ffff',\n",
       " '2525',\n",
       " 'a0a0',\n",
       " '2525',\n",
       " 'a0a0',\n",
       " 'dbdb',\n",
       " '5f5f',\n",
       " '7474',\n",
       " 'f6f6',\n",
       " '8c8c',\n",
       " '0202',\n",
       " 'f3f3',\n",
       " '0000',\n",
       " 'bebe',\n",
       " 'ffff',\n",
       " 'fdfd',\n",
       " 'ffff',\n",
       " 'c5c5',\n",
       " 'ffff',\n",
       " '2525',\n",
       " 'a0a0',\n",
       " '2525',\n",
       " 'a0a0',\n",
       " 'dbdb',\n",
       " '5f5f',\n",
       " '7474',\n",
       " 'f6f6',\n",
       " '8c8c',\n",
       " '0202',\n",
       " 'f3f3',\n",
       " '0000',\n",
       " 'bebe',\n",
       " 'ffff',\n",
       " 'fdfd',\n",
       " 'ffff',\n",
       " 'c5c5',\n",
       " 'ffff']"
      ]
     },
     "execution_count": 28,
     "metadata": {},
     "output_type": "execute_result"
    }
   ],
   "source": [
    "littleSense = littleEndianArr(av,2)\n",
    "littleSense"
   ]
  }
 ],
 "metadata": {
  "kernelspec": {
   "display_name": "rapid",
   "language": "python",
   "name": "rapid"
  },
  "language_info": {
   "codemirror_mode": {
    "name": "ipython",
    "version": 3
   },
   "file_extension": ".py",
   "mimetype": "text/x-python",
   "name": "python",
   "nbconvert_exporter": "python",
   "pygments_lexer": "ipython3",
   "version": "3.7.3"
  }
 },
 "nbformat": 4,
 "nbformat_minor": 2
}
